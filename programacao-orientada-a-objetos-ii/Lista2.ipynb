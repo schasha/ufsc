{
 "cells": [
  {
   "cell_type": "code",
   "execution_count": 18,
   "metadata": {},
   "outputs": [
    {
     "name": "stdout",
     "output_type": "stream",
     "text": [
      "[1, 2, 3, 4, 5]\n",
      "3.0\n",
      "[2, 4]\n",
      "[1, 3, 5]\n",
      "15\n",
      "120\n",
      "55\n"
     ]
    }
   ],
   "source": [
    "class Vetor():\n",
    "    def __init__(self, valores: list):\n",
    "        self.valores = valores\n",
    "#1\n",
    "    def __str__(self):\n",
    "        return \" \".join(self.valores)\n",
    "#2\n",
    "    def inverso(self):\n",
    "        self.valores = self.valores[::-1]\n",
    "#4\n",
    "    def media(self):\n",
    "        count = 0 \n",
    "        soma = 0\n",
    "        for i in self.valores:\n",
    "            count += 1\n",
    "            soma += i\n",
    "        return soma/count\n",
    "#5\n",
    "    def pares(self):\n",
    "        pares = []\n",
    "        for i in self.valores:\n",
    "            if i % 2 == 0:\n",
    "                pares.append(i)\n",
    "        return pares\n",
    "    \n",
    "    def impares(self):\n",
    "        impares = []\n",
    "        for i in self.valores:\n",
    "            if i % 2 != 0:\n",
    "                impares.append(i)\n",
    "        return impares\n",
    "#7\n",
    "    def soma(self):\n",
    "        soma = 0\n",
    "        for i in self.valores:\n",
    "            soma += i\n",
    "        return soma\n",
    "    \n",
    "    def mult(self):\n",
    "        mult = 1\n",
    "        for i in self.valores:\n",
    "            mult *= i\n",
    "        return mult\n",
    "#9\n",
    "    def somaQuadrada(self):\n",
    "        soma = 0\n",
    "        for i in self.valores:\n",
    "            soma += i**2\n",
    "        return soma\n",
    "       \n",
    "\n",
    "v = Vetor([1, 2, 3, 4, 5])\n",
    "print(v.valores)\n",
    "print(v.media())\n",
    "print(v.pares())\n",
    "print(v.impares())\n",
    "print(v.soma())\n",
    "print(v.mult())\n",
    "print(v.somaQuadrada())"
   ]
  },
  {
   "cell_type": "code",
   "execution_count": 26,
   "metadata": {},
   "outputs": [
    {
     "name": "stdout",
     "output_type": "stream",
     "text": [
      "[] 0 consoantes.\n"
     ]
    },
    {
     "ename": "ValueError",
     "evalue": "invalid literal for int() with base 10: ''",
     "output_type": "error",
     "traceback": [
      "\u001b[1;31m---------------------------------------------------------------------------\u001b[0m",
      "\u001b[1;31mValueError\u001b[0m                                Traceback (most recent call last)",
      "Cell \u001b[1;32mIn[26], line 16\u001b[0m\n\u001b[0;32m     14\u001b[0m     notas \u001b[39m=\u001b[39m []\n\u001b[0;32m     15\u001b[0m     \u001b[39mfor\u001b[39;00m j \u001b[39min\u001b[39;00m \u001b[39mrange\u001b[39m(\u001b[39m4\u001b[39m):\n\u001b[1;32m---> 16\u001b[0m         notas\u001b[39m.\u001b[39mappend(\u001b[39mint\u001b[39;49m(\u001b[39minput\u001b[39;49m(\u001b[39mf\u001b[39;49m\u001b[39m\"\u001b[39;49m\u001b[39mDigite a \u001b[39;49m\u001b[39m{\u001b[39;49;00mj\u001b[39m}\u001b[39;49;00m\u001b[39m nota do \u001b[39;49m\u001b[39m{\u001b[39;49;00mi\u001b[39m}\u001b[39;49;00m\u001b[39m aluno.\u001b[39;49m\u001b[39m\"\u001b[39;49m)))\n\u001b[0;32m     17\u001b[0m     alunos\u001b[39m.\u001b[39mupdate({\u001b[39mf\u001b[39m\u001b[39m\"\u001b[39m\u001b[39mAluno \u001b[39m\u001b[39m{\u001b[39;00mi\u001b[39m}\u001b[39;00m\u001b[39m\"\u001b[39m: notas})\n\u001b[0;32m     18\u001b[0m \u001b[39mprint\u001b[39m(alunos)\n",
      "\u001b[1;31mValueError\u001b[0m: invalid literal for int() with base 10: ''"
     ]
    }
   ],
   "source": [
    "#4\n",
    "letras = []\n",
    "count = 0\n",
    "for i in range(10):\n",
    "    letra = input()\n",
    "    if letra not in \"aeiou\":\n",
    "        count +=1\n",
    "        letras.append(letra)\n",
    "print(letras, f\"{count} consoantes.\")"
   ]
  },
  {
   "cell_type": "code",
   "execution_count": null,
   "metadata": {},
   "outputs": [],
   "source": [
    "#6\n",
    "alunos = {}\n",
    "for i in range(10):\n",
    "    notas = []\n",
    "    for j in range(4):\n",
    "        notas.append(int(input(f\"Digite a {j} nota do {i} aluno.\")))\n",
    "    alunos.update({f\"Aluno {i}\": notas})\n",
    "print(alunos)"
   ]
  },
  {
   "cell_type": "code",
   "execution_count": 28,
   "metadata": {},
   "outputs": [
    {
     "name": "stdout",
     "output_type": "stream",
     "text": [
      "[[3, 4], [3, 4], [3, 4], [3, 4], [3, 4]]\n"
     ]
    }
   ],
   "source": [
    "#8\n",
    "pessoas = []\n",
    "for i in range(5):\n",
    "    altura, peso = [int(i) for i in input(\"Digite seu peso e altura.\").split()]\n",
    "    pessoas.append([altura, peso])\n",
    "print(pessoas)"
   ]
  },
  {
   "cell_type": "code",
   "execution_count": null,
   "metadata": {},
   "outputs": [],
   "source": [
    "#20\n",
    "class Lista():\n",
    "    def __init__(self, dados: tuple):\n",
    "        self.dados = dados\n",
    "\n",
    "    def __str__(self):\n",
    "        return str(self.dados)\n",
    "\n",
    "    def __getitem__(self, key):\n",
    "        return self.dados[key]\n",
    "\n",
    "    def __setitem__(self, key, value):\n",
    "        if key != -1:\n",
    "            self.dados = *self.dados[:key], value, *self.dados[key + 1:]\n",
    "        else:\n",
    "            self.dados = *self.dados[:key], value\n",
    "\n",
    "    def index(self, item):\n",
    "        found = False\n",
    "        for i, element in enumerate(self.dados):\n",
    "            if element == item:\n",
    "                found = True\n",
    "                return i\n",
    "        if not found:\n",
    "            raise ValueError(\"Item não achado.\")\n",
    "\n",
    "    def append(self, dado):\n",
    "        self.dados = *self.dados, dado\n",
    "\n",
    "    def insert(self, key, value):\n",
    "        if key != -1:\n",
    "            self.dados = *self.dados[:key], value, *self.dados[key:]\n",
    "        else:\n",
    "            self.dados = *self.dados[:], value\n",
    "\n",
    "    def pop(self, index = -1):\n",
    "        popped = self.dados[index]\n",
    "        if index != -1:\n",
    "            self.dados = *self.dados[:index], *self.dados[index + 1:]\n",
    "        else:\n",
    "            self.dados = *self.dados[:index],\n",
    "        return popped\n",
    "\n",
    "    def remove(self, item):\n",
    "        index = self.dados.index(item)\n",
    "        self.dados = *self.dados[:index], *self.dados[index + 1:]\n",
    "\n",
    "    def reverse(self):\n",
    "        reverso = self.dados[::-1]\n",
    "        self.dados = reverso\n",
    "\n",
    "    def sort(self):\n",
    "        max_d = max(self.dados)\n",
    "        sorted_list = max_d,\n",
    "        for i in self.dados:\n",
    "            for j in sorted_list:\n",
    "                if i < j:\n",
    "                    sorted_list = *sorted_list[:sorted_list.index(j)], i, *sorted_list[sorted_list.index(j):]\n",
    "                    break\n",
    "        self.dados = sorted_list\n",
    "\n",
    "\n",
    "lst = Lista((1, 2, 4, 3 ,5 ,7 ,8, 9,))\n",
    "lst[-1] = 2\n",
    "lst.sort()\n",
    "print(lst)"
   ]
  }
 ],
 "metadata": {
  "language_info": {
   "name": "python"
  },
  "orig_nbformat": 4
 },
 "nbformat": 4,
 "nbformat_minor": 2
}
