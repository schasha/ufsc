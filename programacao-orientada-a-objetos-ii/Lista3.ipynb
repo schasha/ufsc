{
 "cells": [
  {
   "cell_type": "code",
   "execution_count": null,
   "metadata": {},
   "outputs": [],
   "source": [
    "#2\n",
    "\n",
    "def removerStopwords(dict):\n",
    "    s = open(\"stopwords.txt\", \"r\")\n",
    "    stopwords = s.read()\n",
    "    removeFromDict = []\n",
    "    for key in dict.keys():\n",
    "        if key in stopwords.splitlines():\n",
    "            removeFromDict.append(key)\n",
    "    for key in removeFromDict:\n",
    "        dict.pop(key)\n",
    "    s.close()\n",
    "\n",
    "#1\n",
    "\n",
    "t = open(\"teste.txt\", \"r\")\n",
    "\n",
    "texto = t.read()\n",
    "palavras = {}\n",
    "\n",
    "for i in texto.splitlines():\n",
    "    for j in i.split():\n",
    "        if j in palavras.keys():\n",
    "            palavras[j] += 1\n",
    "        else:\n",
    "            palavras.update({j: 1})\n",
    "\n",
    "print(palavras)\n",
    "removerStopwords(palavras)\n",
    "print(palavras)"
   ]
  },
  {
   "cell_type": "code",
   "execution_count": null,
   "metadata": {},
   "outputs": [],
   "source": [
    "#3\n",
    "\n",
    "def mediaNotas(aluno):\n",
    "    soma = 0\n",
    "    for val in alunos_notas[aluno]:\n",
    "        soma += val\n",
    "    return soma/len(alunos_notas[aluno])\n",
    "\n",
    "n_alunos = int(input())\n",
    "alunos_notas = {}\n",
    "\n",
    "for i in range(n_alunos):\n",
    "    nome = input()\n",
    "    notas = [int(i) for i in input().split()]\n",
    "\n",
    "    alunos_notas.update({nome: notas})"
   ]
  },
  {
   "cell_type": "code",
   "execution_count": null,
   "metadata": {},
   "outputs": [],
   "source": [
    "#4\n",
    "\n",
    "voltas = {}\n",
    "medias = []\n",
    "for i in range(6):\n",
    "    corredor = input()\n",
    "    tempos = []\n",
    "    count = 0\n",
    "    for i in range(10):\n",
    "        tempo = float(input())\n",
    "        tempos.append(tempo)\n",
    "        count += tempo\n",
    "    voltas.update({corredor: tempos})\n",
    "    medias.append((count/10, corredor))\n",
    "medias.sort()\n",
    "\n",
    "print(f\"Vencedor: {medias[2]}\")"
   ]
  },
  {
   "cell_type": "code",
   "execution_count": null,
   "metadata": {},
   "outputs": [],
   "source": [
    "#6\n",
    "\n",
    "from random import randint\n",
    "\n",
    "frozenSets = {}\n",
    "for i in range(10):\n",
    "    set1 = set()\n",
    "    count = 0\n",
    "    for i in range(30):\n",
    "        num = randint(1, 100)\n",
    "        set1.add(num)\n",
    "        count += num\n",
    "    fset = frozenset(set1)\n",
    "    frozenSets.update({fset: count})\n",
    "\n",
    "for i, val in frozenSets.items():\n",
    "    print(i, val)"
   ]
  }
 ],
 "metadata": {
  "language_info": {
   "name": "python"
  },
  "orig_nbformat": 4
 },
 "nbformat": 4,
 "nbformat_minor": 2
}
